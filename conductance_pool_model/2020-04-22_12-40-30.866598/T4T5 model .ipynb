{
 "cells": [
  {
   "cell_type": "code",
   "execution_count": 1,
   "metadata": {},
   "outputs": [],
   "source": [
    "import tensorflow as tf\n",
    "import datetime\n",
    "import os\n",
    "from src.utils import *\n",
    "from src.defineModels import *\n",
    "from tensorflow.keras import optimizers\n",
    "from src.utils import *\n",
    "import easygui\n"
   ]
  },
  {
   "cell_type": "markdown",
   "metadata": {},
   "source": [
    "# Set data paths\n",
    "## Start by locating the .mat files that have all the natural scene data in the repo\n"
   ]
  },
  {
   "cell_type": "code",
   "execution_count": 2,
   "metadata": {},
   "outputs": [],
   "source": [
    "# define the input path\n",
    "# data set location\n",
    "data_set_folder = '/Users/barabadwan/PycharmProjects/CNNModelofT4T5'\n",
    "# save in a folder with the date\n",
    "date_str = str(datetime.datetime.now())\n",
    "date_str = '_'.join(date_str.split(' '))\n",
    "date_str = '-'.join(date_str.split(':'))\n",
    "\n",
    "# The three datasets based on whether they are of natural scene, sinewaves, or synthetic\n",
    "data_set_names = ['xtPlot_ns20_xe360_xs360_ye100_ys5_pe360_ps5_sf100_tt1_nt16_hl0-2_vs100_df0-05_no0_csInf_sy0.mat',\n",
    "                  'xtPlot_sineWaves_sl20_ll90_pe360_ps5_sf100_tt1_nt6080_hl0-2_vs100_df0-05_no0_csInf.mat',\n",
    "                  'xtPlot_ns20_xe360_xs360_ye100_ys5_pe360_ps5_sf100_tt1_nt16_hl0-2_vs100_df0-05_no0_csInf_sy1.mat']\n",
    "\n",
    "# Here I am only selecting the first of the three\n",
    "image_type_idxes = [0]\n",
    "image_types = ['nat', 'sine', 'synth']\n",
    "\n",
    "#Write the path for each\n",
    "for image_type_idx in image_type_idxes:\n",
    "    path = data_set_folder + '/Data/natural_images/xt/' + data_set_names[image_type_idx]"
   ]
  },
  {
   "cell_type": "markdown",
   "metadata": {},
   "source": [
    "# Set parameters"
   ]
  },
  {
   "cell_type": "code",
   "execution_count": 3,
   "metadata": {},
   "outputs": [],
   "source": [
    "num_runs = 1\n",
    "filter_time = 0.3  # s\n",
    "noise_std_list = [0.1]\n",
    "filter_space = 15  # degrees\n",
    "sum_over_space = [False]\n",
    "num_filt = 4\n",
    "binarize = True\n",
    "epochs = 50\n",
    "batch_size = 128\n",
    "learningRate = 0.05\n",
    "learningDecay = 0\n",
    "\n",
    "if binarize:\n",
    "    binaryName = 'Binary'\n",
    "else:\n",
    "    binaryName = 'Velocity'"
   ]
  },
  {
   "cell_type": "markdown",
   "metadata": {},
   "source": [
    "# Load data"
   ]
  },
  {
   "cell_type": "code",
   "execution_count": 4,
   "metadata": {},
   "outputs": [],
   "source": [
    "train_in, train_out, dev_in, dev_out, test_in, test_out, sample_freq, phase_step = load_data_rr(path, binarize=binarize)\n",
    "\n",
    "# Set up filter lengths based on the entered filter time and space and the associated phase/freq\n",
    "filter_indicies_t = int(np.ceil(filter_time*int(sample_freq)))\n",
    "filter_indicies_x = int(np.ceil(filter_space/int(phase_step)))\n",
    "\n",
    "m, size_t, size_x, n_c = train_in.shape\n",
    "\n",
    "\n"
   ]
  },
  {
   "cell_type": "markdown",
   "metadata": {},
   "source": [
    "# process the data based on the model of interest"
   ]
  },
  {
   "cell_type": "code",
   "execution_count": 5,
   "metadata": {},
   "outputs": [],
   "source": [
    "\n",
    "def processData(model):\n",
    "    #Load data\n",
    "    train_in, train_out, dev_in, dev_out, test_in, test_out, sample_freq, phase_step = load_data_rr(path,\n",
    "                                                                                                    binarize=binarize)\n",
    "    # We must process the data in two ways, for models where we don't average space we need to tile the velocity\n",
    "    # over the spatial dimension \n",
    "    pad_t = int((filter_indicies_t- 1))\n",
    "    pad_x = int((filter_indicies_x- 1))\n",
    "    if model.name not in ['LNPool_model' , \"lnPool_model_Opp\" , \"conductance_pool_model_opp\", \"conductance_pool_model\", 'SLN_model']:\n",
    "        train_out = np.tile(train_out, (1, 1, size_x - pad_x, 1))\n",
    "        dev_out = np.tile(dev_out, (1, 1, size_x - pad_x, 1))\n",
    "        test_out = np.tile(test_out, (1, 1, size_x - pad_x, 1))\n",
    "\n",
    "    if model.name in ['SLN_model']:\n",
    "        train_out = np.tile(train_out, (1, 1, size_x - 2*pad_x, 1))\n",
    "        dev_out = np.tile(dev_out, (1, 1, size_x - 2*pad_x, 1))\n",
    "        test_out = np.tile(test_out, (1, 1, size_x - 2*pad_x, 1))\n",
    "\n",
    "        \n",
    "    # We need to remove the first chunk of the time as we cant make predictions in the first segment as it needs\n",
    "    # to be longer than our \n",
    "    train_out = train_out[:, pad_t:, :, :]\n",
    "    dev_out = dev_out[:, pad_t:, :, :]\n",
    "    test_out = test_out[:, pad_t:, :, :]\n",
    "\n",
    "    return train_out, dev_out, test_out\n"
   ]
  },
  {
   "cell_type": "markdown",
   "metadata": {},
   "source": [
    "\n",
    "# Define models\n"
   ]
  },
  {
   "cell_type": "code",
   "execution_count": 6,
   "metadata": {},
   "outputs": [],
   "source": [
    "LNModel_Opp = ln_model_Opp(input_shape=(size_t, size_x, n_c),\n",
    "                     filter_shape=[filter_indicies_t, filter_indicies_x],\n",
    "                     num_filter=num_filt, binarize=binarize)\n",
    "\n",
    "conductanceModel = conductance_model(input_shape=(size_t, size_x, n_c),\n",
    "                     filter_shape=[filter_indicies_t, filter_indicies_x],\n",
    "                     num_filter=num_filt,\n",
    "                     sum_over_space=sum_over_space,\n",
    "                     binarize = binarize) # worth pointing out, the spatial filter size is reset in the model\n",
    "\n",
    "LNLNModel = lnln_model(input_shape=(size_t, size_x, n_c),\n",
    "                     filter_shape=[filter_indicies_t, filter_indicies_x],\n",
    "                     num_filter=num_filt,\n",
    "                     sum_over_space=sum_over_space,\n",
    "                     binarize = binarize)\n",
    "\n",
    "sLN = Sln_model(input_shape=(size_t, size_x, n_c),\n",
    "                     filter_shape=[filter_indicies_t, filter_indicies_x],\n",
    "                     num_filter=num_filt, binarize=binarize)"
   ]
  },
  {
   "cell_type": "markdown",
   "metadata": {},
   "source": [
    "# Fit Models"
   ]
  },
  {
   "cell_type": "code",
   "execution_count": 9,
   "metadata": {},
   "outputs": [],
   "source": [
    "def fitModel(model,retrain=0, trainMore=0):\n",
    "    optimizer = optimizers.Adam(lr=learningRate, decay=learningDecay)\n",
    "    if retrain:\n",
    "        train_out, dev_out, test_out = processData(model)\n",
    "        save_folder = data_set_folder+'/'+model.name + '/' + binaryName + '/' +date_str + '/'\n",
    "        os.makedirs(save_folder)\n",
    "        saveCallbackFolder, saveCallback = makeSaveCallback(save_folder)\n",
    "        if binarize:\n",
    "            model.compile(optimizer= optimizer, loss='binary_crossentropy', metrics=['accuracy'])\n",
    "        else:\n",
    "            model.compile(optimizer=optimizer, loss='mean_squared_error', metrics=[r2])\n",
    "\n",
    "        hist = model.fit(train_in, (train_out), verbose=2, epochs=epochs, batch_size=batch_size,\n",
    "                         validation_data=(dev_in, (dev_out)), callbacks=[saveCallback])\n",
    "        model.save(save_folder+'savedmodel.h5')\n",
    "        if binarize:\n",
    "            plotAccuracyLoss(hist, save_folder)\n",
    "        else:\n",
    "            plotRsqLoss(hist, save_folder)\n",
    "\n",
    "\n",
    "\n",
    "    else:\n",
    "        path = easygui.fileopenbox(default = os.getcwd(), filetypes = ['*.h5'])\n",
    "        # save_folder = os.path.dirname(path)\n",
    "        save_folder_orig =  os.path.split(os.path.dirname(path))[1]\n",
    "        model = tf.keras.models.load_model(path, custom_objects={\"BiasLayer\":BiasLayer}, compile=False)\n",
    "        save_folder = data_set_folder + '/' + model.name + '/' + binaryName + '/'+ date_str + '_Retraining_' + save_folder_orig + '/'\n",
    "        os.makedirs(save_folder)\n",
    "        hist = model\n",
    "\n",
    "        if trainMore:\n",
    "            train_out, dev_out, test_out = processData(model)\n",
    "            model.set_weights(model.get_weights(save_folder_orig))\n",
    "            saveCallbackFolder, saveCallback = makeSaveCallback(save_folder)\n",
    "            if binarize:\n",
    "                model.compile(optimizer=optimizer, loss='binary_crossentropy', metrics=['accuracy'])\n",
    "            else:\n",
    "                model.compile(optimizer=optimizer, loss='mean_squared_error', metrics=[r2])\n",
    "            model.load_weights(save_folder_orig)\n",
    "            hist = model.fit(train_in, (train_out), verbose=2, epochs=epochs, batch_size=batch_size,\n",
    "                             validation_data=(dev_in, (dev_out)), callbacks=[saveCallback])\n",
    "            if binarize:\n",
    "                plotAccuracyLoss(hist, save_folder)\n",
    "            else:\n",
    "                plotRsqLoss(hist, save_folder)\n",
    "\n",
    "\n",
    "\n",
    "\n",
    "    getPlotLayerWeights(model, save_folder)\n",
    "    return\n"
   ]
  },
  {
   "cell_type": "markdown",
   "metadata": {},
   "source": [
    "# Plot Results"
   ]
  },
  {
   "cell_type": "code",
   "execution_count": 14,
   "metadata": {},
   "outputs": [
    {
     "name": "stderr",
     "output_type": "stream",
     "text": [
      "/Users/barabadwan/PycharmProjects/CNNModelofT4T5/src/utils.py:109: MatplotlibDeprecationWarning: \n",
      "The DivergingNorm class was deprecated in Matplotlib 3.2 and will be removed two minor releases later. Use TwoSlopeNorm instead.\n",
      "  norm = mcolors.DivergingNorm(vmin=d.min(), vmax = d.max(), vcenter=0)\n"
     ]
    },
    {
     "data": {
      "image/png": "[encoded data removed]",
      "text/plain": [
       "<Figure size 432x288 with 4 Axes>"
      ]
     },
     "metadata": {
      "needs_background": "light"
     },
     "output_type": "display_data"
    }
   ],
   "source": [
    "\n",
    "\n",
    "# fitModel(conductanceModel,1,0)\n",
    "fitModel(LNModel_Opp,0,0)\n",
    "# fitModel(LNLNModel,0,0)\n",
    "# fitModel(sLN, 0,0)\n",
    "\n",
    "\n",
    "# Not being used anymore\n",
    "\n",
    "# fitModel(LNModel,1,1)\n",
    "# fitModel(LNPoolModel, 1)\n",
    "\n",
    "# fitModel(LNLNModel,0,1)\n",
    "\n",
    "\n",
    "# fitModel(conductancePoolOppModel,1,0)\n",
    "\n",
    "# fitModel(conductanceOppModel,1,0)\n",
    "\n",
    "# fitModel(conductancePoolModel,0,1)\n",
    "\n",
    "# fitModel(anatomicalModel)\n",
    "# PlotLearningRateSch(hist)\n",
    "\n",
    "# fitModel(LNPool_Model_Opp,1,1)\n",
    "\n",
    "plt.show()\n"
   ]
  },
  {
   "cell_type": "code",
   "execution_count": null,
   "metadata": {},
   "outputs": [],
   "source": []
  },
  {
   "cell_type": "code",
   "execution_count": null,
   "metadata": {},
   "outputs": [],
   "source": []
  },
  {
   "cell_type": "code",
   "execution_count": null,
   "metadata": {},
   "outputs": [],
   "source": []
  }
 ],
 "metadata": {
  "kernelspec": {
   "display_name": "Python 3",
   "language": "python",
   "name": "python3"
  },
  "language_info": {
   "codemirror_mode": {
    "name": "ipython",
    "version": 3
   },
   "file_extension": ".py",
   "mimetype": "text/x-python",
   "name": "python",
   "nbconvert_exporter": "python",
   "pygments_lexer": "ipython3",
   "version": "3.7.7"
  }
 },
 "nbformat": 4,
 "nbformat_minor": 4
}
